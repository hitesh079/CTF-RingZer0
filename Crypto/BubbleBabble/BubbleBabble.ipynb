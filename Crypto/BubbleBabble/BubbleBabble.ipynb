{
 "cells": [
  {
   "cell_type": "code",
   "execution_count": 3,
   "id": "667f50f8",
   "metadata": {},
   "outputs": [],
   "source": [
    "import numpy\n",
    "from bubblepy import BubbleBabble"
   ]
  },
  {
   "cell_type": "code",
   "execution_count": 6,
   "id": "7358d788",
   "metadata": {},
   "outputs": [
    {
     "name": "stdout",
     "output_type": "stream",
     "text": [
      "xigak-nyryk-humil-bosek-sonax\n",
      "b'Pineapple'\n"
     ]
    }
   ],
   "source": [
    "#example:\n",
    "\n",
    "bb = BubbleBabble()\n",
    "print (bb.encode('Pineapple'))\n",
    "print (bb.decode('xigak-nyryk-humil-bosek-sonax'))"
   ]
  },
  {
   "cell_type": "code",
   "execution_count": 7,
   "id": "a8ad2c11",
   "metadata": {},
   "outputs": [
    {
     "name": "stdout",
     "output_type": "stream",
     "text": [
      "b'hackingbubble'\n"
     ]
    }
   ],
   "source": [
    "#final: \n",
    "print (bb.decode('xipak-comok-repuk-vanik-dytuk-dimyk-sinyx'))"
   ]
  }
 ],
 "metadata": {
  "kernelspec": {
   "display_name": "Python 3",
   "language": "python",
   "name": "python3"
  },
  "language_info": {
   "codemirror_mode": {
    "name": "ipython",
    "version": 3
   },
   "file_extension": ".py",
   "mimetype": "text/x-python",
   "name": "python",
   "nbconvert_exporter": "python",
   "pygments_lexer": "ipython3",
   "version": "3.8.8"
  }
 },
 "nbformat": 4,
 "nbformat_minor": 5
}
