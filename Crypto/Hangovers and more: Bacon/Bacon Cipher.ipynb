{
 "cells": [
  {
   "cell_type": "code",
   "execution_count": 10,
   "id": "fca81c9a",
   "metadata": {},
   "outputs": [
    {
     "name": "stdout",
     "output_type": "stream",
     "text": [
      "BAABBAABBBAABAAAABABABABBAAAAAAABBAABAAABAABAAAAABAAAAAAAABAABBBAABBABAAAAAABBABAAABBABAABAAAAAAAABAABABAAAABBAAAAAABBABABAAAAABAAABABBBAABAAAAAAAAA\n"
     ]
    }
   ],
   "source": [
    "string = \"VoiCI unE SUpeRbe reCeTtE cONcontee pAR un GrouPe d'ArtistEs culinaiRe, dONT le BOn Gout et lE SeNs de LA cLasSe n'est limIteE qUe par LE nombre DE cAlOries qU'ils PeUVEnt Ingurgiter\"\n",
    "bacon_str = \"\"\n",
    "for i in string:\n",
    "    if (i.isupper()):\n",
    "        bacon_str = bacon_str + 'B'\n",
    "    elif (i.islower()):\n",
    "        bacon_str = bacon_str + 'A'\n",
    "    else:\n",
    "        continue\n",
    "        \n",
    "print (bacon_str)"
   ]
  },
  {
   "cell_type": "code",
   "execution_count": 11,
   "id": "d822a3b5",
   "metadata": {},
   "outputs": [
    {
     "name": "stdout",
     "output_type": "stream",
     "text": [
      "baabb aabbb aabaa aabab ababb aaaaa aabba abaaa baaba aaaab aaaaa aaaba abbba abbab aaaaa abbab aaabb abaab aaaaa aaaba ababa aaabb aaaaa abbab abaaa aabaa ababb baaba aaaaa aaa\n"
     ]
    }
   ],
   "source": [
    "old = \"BAABB AABBB AABAA AABAB ABABB AAAAA AABBA ABAAA BAABA AAAAB AAAAA AAABA ABBBA ABBAB AAAAA ABBAB AAABB ABAAB AAAAA AAABA ABABA AAABB AAAAA ABBAB ABAAA AABAA ABABB BAABA AAAAA AAA\"\n",
    "\n",
    "new = \"\"\n",
    "for i in old:\n",
    "    new = new + i.lower()\n",
    "print (new)"
   ]
  }
 ],
 "metadata": {
  "kernelspec": {
   "display_name": "Python 3",
   "language": "python",
   "name": "python3"
  },
  "language_info": {
   "codemirror_mode": {
    "name": "ipython",
    "version": 3
   },
   "file_extension": ".py",
   "mimetype": "text/x-python",
   "name": "python",
   "nbconvert_exporter": "python",
   "pygments_lexer": "ipython3",
   "version": "3.8.8"
  }
 },
 "nbformat": 4,
 "nbformat_minor": 5
}
