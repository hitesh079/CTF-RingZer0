{
 "cells": [
  {
   "cell_type": "code",
   "execution_count": 1,
   "id": "4fcdf86a",
   "metadata": {},
   "outputs": [],
   "source": [
    "import base64"
   ]
  },
  {
   "cell_type": "code",
   "execution_count": 4,
   "id": "56b1633b",
   "metadata": {},
   "outputs": [],
   "source": [
    "def Xor(text1,text2):\n",
    "    return text1 ^ text2"
   ]
  },
  {
   "cell_type": "code",
   "execution_count": 3,
   "id": "0a7ce2c2",
   "metadata": {},
   "outputs": [
    {
     "name": "stdout",
     "output_type": "stream",
     "text": [
      "EOBD.7igq4;1ikb51ibOO0;:41R\n"
     ]
    }
   ],
   "source": [
    "encodedStr = \"RU9CRC43aWdxNDsxaWtiNTFpYk9PMDs6NDFS\"\n",
    "\n",
    "# Standard Base64 Decoding\n",
    "decodedBytes = base64.b64decode(encodedStr)\n",
    "decodedStr = str(decodedBytes, \"utf-8\")\n",
    "\n",
    "print(decodedStr)"
   ]
  },
  {
   "cell_type": "code",
   "execution_count": 15,
   "id": "5a9a06b0",
   "metadata": {},
   "outputs": [
    {
     "name": "stdout",
     "output_type": "stream",
     "text": [
      "3\n",
      "3\n",
      "3\n",
      "3\n"
     ]
    }
   ],
   "source": [
    "x = [70,76,65,71]  # FLAG\n",
    "y = [69,79,66,68]  # EOBD\n",
    "\n",
    "for i in range(len(x)):\n",
    "    print (Xor(x[i],y[i]))"
   ]
  },
  {
   "cell_type": "code",
   "execution_count": 22,
   "id": "1a9cbe96",
   "metadata": {},
   "outputs": [],
   "source": [
    "def to_string(l):\n",
    "    ch = ''\n",
    "    for i in l:\n",
    "        ch = ch + chr(i)\n",
    "    return ch"
   ]
  },
  {
   "cell_type": "code",
   "execution_count": 19,
   "id": "a9fdefa1",
   "metadata": {},
   "outputs": [
    {
     "name": "stdout",
     "output_type": "stream",
     "text": [
      "[70, 76, 65, 71, 45, 52, 106, 100, 114, 55, 56, 50, 106, 104, 97, 54, 50, 106, 97, 76, 76, 51, 56, 57, 55, 50, 81]\n"
     ]
    }
   ],
   "source": [
    "ans = []\n",
    "for i in decodedStr:\n",
    "    ans.append((ord(i)^3))\n",
    "    \n",
    "print(ans)"
   ]
  },
  {
   "cell_type": "code",
   "execution_count": 23,
   "id": "79c4bf50",
   "metadata": {},
   "outputs": [
    {
     "name": "stdout",
     "output_type": "stream",
     "text": [
      "FLAG-4jdr782jha62jaLL38972Q\n"
     ]
    }
   ],
   "source": [
    "print(to_string(ans))"
   ]
  }
 ],
 "metadata": {
  "kernelspec": {
   "display_name": "Python 3",
   "language": "python",
   "name": "python3"
  },
  "language_info": {
   "codemirror_mode": {
    "name": "ipython",
    "version": 3
   },
   "file_extension": ".py",
   "mimetype": "text/x-python",
   "name": "python",
   "nbconvert_exporter": "python",
   "pygments_lexer": "ipython3",
   "version": "3.8.8"
  }
 },
 "nbformat": 4,
 "nbformat_minor": 5
}
